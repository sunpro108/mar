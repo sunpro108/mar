{
 "cells": [
  {
   "cell_type": "code",
   "execution_count": 1,
   "id": "cf6ab8a8",
   "metadata": {},
   "outputs": [
    {
     "name": "stdout",
     "output_type": "stream",
     "text": [
      "/sunjinsheng/sunpiece/mar\n"
     ]
    }
   ],
   "source": [
    "%cd .."
   ]
  },
  {
   "cell_type": "code",
   "execution_count": 2,
   "id": "8007f9a9",
   "metadata": {},
   "outputs": [],
   "source": [
    "from pathlib import Path\n",
    "\n",
    "from PIL import Image\n",
    "import torch \n",
    "import torchvision.transforms as tf\n",
    "from einops import rearrange,repeat"
   ]
  },
  {
   "cell_type": "code",
   "execution_count": 4,
   "id": "414ad1fb",
   "metadata": {},
   "outputs": [],
   "source": [
    "import importlib\n",
    "from models import har"
   ]
  },
  {
   "cell_type": "code",
   "execution_count": 68,
   "id": "d6a0d689",
   "metadata": {},
   "outputs": [],
   "source": [
    "har = importlib.reload(har)\n",
    "HAR = har.HAR\n",
    "model = HAR()"
   ]
  },
  {
   "cell_type": "code",
   "execution_count": 69,
   "id": "fc07741c",
   "metadata": {},
   "outputs": [],
   "source": [
    "N,L,D,E = 2*1,256,16,1024 # 3072=32*32*3\n",
    "class_embedding = torch.rand(N,E)\n",
    "x = torch.ones(N,L,D)\n",
    "g = torch.zeros(N,L,D)\n",
    "\n",
    "mask_ratio = 0.6\n",
    "torch.manual_seed(122)\n",
    "noise = torch.rand(N,L)\n",
    "ids_shuffle = torch.argsort(noise, dim=1)  # ascend: small is keep, large is remove\n",
    "ids_restore = torch.argsort(ids_shuffle, dim=1)\n",
    "len_keep = int(L * (1 - mask_ratio))\n",
    "mask = torch.ones([N, L])\n",
    "mask[:, :len_keep] = 0\n",
    "# unshuffle to get the binary mask\n",
    "mask = torch.gather(mask, dim=1, index=ids_restore)"
   ]
  },
  {
   "cell_type": "code",
   "execution_count": 70,
   "id": "2c49aa0f",
   "metadata": {},
   "outputs": [
    {
     "name": "stdout",
     "output_type": "stream",
     "text": [
      "torch.Size([2, 256, 16]) torch.Size([2, 256]) torch.Size([2, 1024])\n",
      "after z_proj x.shape: torch.Size([2, 256, 1024])\n",
      "after concat buffer x.shape: torch.Size([2, 320, 1024])\n",
      "class_embedding shape: torch.Size([2, 1, 1024])\n",
      "before add pos embed x.shape: torch.Size([2, 320, 1024])\n",
      "after add pos embed x.shape: torch.Size([2, 320, 1024])\n",
      "after ln x.shape: torch.Size([2, 320, 1024])\n",
      "after drop x.shape: torch.Size([2, 320, 1024])\n",
      "after block x.shape: torch.Size([2, 320, 1024])\n",
      "after norm x.shape: torch.Size([2, 320, 1024])\n"
     ]
    }
   ],
   "source": [
    "res = model.forward_mae_encoder_no_drop2(x, g, mask, class_embedding)"
   ]
  },
  {
   "cell_type": "code",
   "execution_count": 71,
   "id": "9e27671d",
   "metadata": {},
   "outputs": [
    {
     "name": "stdout",
     "output_type": "stream",
     "text": [
      "input x.shape: torch.Size([2, 320, 1024])\n",
      "embeded x.shape: torch.Size([2, 320, 1024])\n",
      "x_after_pad.shape: torch.Size([2, 320, 1024])\n",
      "add pos embed x.shape: torch.Size([2, 320, 1024])\n",
      "block x.shape: torch.Size([2, 320, 1024])\n",
      "decoder norm x.shape: torch.Size([2, 320, 1024])\n",
      "remove cls embed x.shape: torch.Size([2, 256, 1024])\n",
      "add diffusion pos embed x.shape: torch.Size([2, 256, 1024])\n"
     ]
    }
   ],
   "source": [
    "out = model.forward_mae_decoder_no_drop(res)"
   ]
  },
  {
   "cell_type": "code",
   "execution_count": null,
   "id": "df6b3648",
   "metadata": {},
   "outputs": [
    {
     "name": "stdout",
     "output_type": "stream",
     "text": [
      "torch.Size([2, 256, 16]) torch.Size([2, 256]) torch.Size([2, 1024])\n",
      "after z_proj x.shape: torch.Size([4, 256, 1024])\n",
      "after concat buffer x.shape: torch.Size([4, 320, 1024])\n",
      "class_embedding shape: torch.Size([4, 1, 1024])\n",
      "before add pos embed x.shape: torch.Size([4, 320, 1024])\n",
      "after add pos embed x.shape: torch.Size([4, 320, 1024])\n",
      "after ln x.shape: torch.Size([4, 320, 1024])\n",
      "after concat buffer mask_with_buffer.shape: torch.Size([2, 320])\n",
      "after drop x.shape: torch.Size([2, 320, 1024])\n",
      "after block x.shape: torch.Size([2, 320, 1024])\n",
      "after norm x.shape: torch.Size([2, 320, 1024])\n"
     ]
    }
   ],
   "source": [
    "x = model.forward_mae_encoder_no_drop(x, g, mask, class_embedding)"
   ]
  },
  {
   "cell_type": "code",
   "execution_count": 52,
   "id": "df3664f0",
   "metadata": {},
   "outputs": [
    {
     "data": {
      "text/plain": [
       "torch.Size([2, 320, 1024])"
      ]
     },
     "execution_count": 52,
     "metadata": {},
     "output_type": "execute_result"
    }
   ],
   "source": [
    "x.shape"
   ]
  },
  {
   "cell_type": "code",
   "execution_count": null,
   "id": "20aea53a",
   "metadata": {},
   "outputs": [],
   "source": [
    "x_g = torch.scatter(x,dim=1,index=ids_keep.unsqueeze(-1).repeat(1, 1, D),src=g)"
   ]
  },
  {
   "cell_type": "code",
   "execution_count": null,
   "id": "94c66811",
   "metadata": {},
   "outputs": [],
   "source": [
    "x_g.shape"
   ]
  },
  {
   "cell_type": "code",
   "execution_count": null,
   "id": "1e55fbea",
   "metadata": {},
   "outputs": [],
   "source": [
    "x_ = rearrange(x, 'n (h w) (c p q) -> n c (h p) (w q)', h=4, c=3, p=32)\n",
    "g_ = rearrange(g, 'n (h w) (c p q) -> n c (h p) (w q)', h=4, c=3, p=32)\n",
    "xg_ = rearrange(x_g, 'n (h w) (c p q) -> n c (h p) (w q)', h=4, c=3, p=32)"
   ]
  },
  {
   "cell_type": "code",
   "execution_count": null,
   "id": "809f1b7d",
   "metadata": {},
   "outputs": [],
   "source": [
    "tensor_2_image(x_)"
   ]
  },
  {
   "cell_type": "code",
   "execution_count": null,
   "id": "32c81bd8",
   "metadata": {},
   "outputs": [],
   "source": [
    "tensor_2_image(g_)"
   ]
  },
  {
   "cell_type": "code",
   "execution_count": null,
   "id": "552823d8",
   "metadata": {},
   "outputs": [],
   "source": [
    "tensor_2_image(xg_)"
   ]
  },
  {
   "cell_type": "code",
   "execution_count": null,
   "id": "6029814a",
   "metadata": {},
   "outputs": [],
   "source": [
    "path_image = 'data/RealHM/vendor_testing_2/pexels-craig-adderley-1563356_fore.jpg'"
   ]
  },
  {
   "cell_type": "code",
   "execution_count": null,
   "id": "1f01669a",
   "metadata": {},
   "outputs": [],
   "source": [
    "transfroms = tf.Compose([\n",
    "    tf.Resize((224,224)),\n",
    "    tf.ToTensor()\n",
    "])\n",
    "transfroms_gray = tf.Compose([\n",
    "    tf.Grayscale(),\n",
    "    tf.Resize((224, 224)),\n",
    "    tf.ToTensor()\n",
    "])"
   ]
  },
  {
   "cell_type": "code",
   "execution_count": null,
   "id": "c57e8cdd",
   "metadata": {},
   "outputs": [],
   "source": [
    "import numpy as np\n",
    "# image = 255*np.ones((224,224,3))\n",
    "# image[:,:,1:] = 0\n",
    "# image = Image.fromarray(image.astype(np.uint8))"
   ]
  },
  {
   "cell_type": "code",
   "execution_count": null,
   "id": "83665f26",
   "metadata": {},
   "outputs": [],
   "source": [
    "image = Image.open(path_image).convert('RGB')\n",
    "tensor_image = transfroms(image)\n",
    "tensor_image = tensor_image.unsqueeze(0)\n",
    "tensor_gray = transfroms_gray(image)\n",
    "tensor_gray = tensor_gray.unsqueeze(0)\n",
    "tensor_gray = tensor_gray.expand(-1, 3, -1, -1)\n",
    "tensor_image.shape, tensor_gray.shape"
   ]
  },
  {
   "cell_type": "code",
   "execution_count": null,
   "id": "1137c801",
   "metadata": {},
   "outputs": [],
   "source": [
    "def tensor_2_image(x:torch.Tensor) -> Image:\n",
    "    # x.shape: n c h w\n",
    "    assert 4 == x.dim() \n",
    "    x = rearrange(x, 'n c h w -> c h (w n)')\n",
    "    # (255*x.clip(0,1)).to(torch.uint8).cpu().numpy()\n",
    "    return tf.functional.to_pil_image(x)\n",
    "def tensor_2_patch_image(x:torch.Tensor, patch_size:int=16) -> Image:\n",
    "    b,c,h,w= x.shape\n",
    "    p = q = patch_size\n",
    "    h_ = h // p\n",
    "    w_ = w // q\n",
    "    x = rearrange(x, 'n c (h p) (w q) -> n c (h w) p q', p = p, q = q)\n",
    "    # x = rearrange(x, 'b c (h p) (w q) -> b (h w) (c p q)', p=p, q=q)\n",
    "    # x = rearrange(x, 'b (h w) (c p q) -> b c (h p) (w q)', c=c, h=h_, w=w_, p=p,q=q)\n",
    "    x = torch.nn.functional.pad(x, (2,2,2,2), mode='constant', value=0.6)\n",
    "    _,_,_, p, q = x.shape\n",
    "    x = rearrange(x, 'n c L p q -> n c (p q)  L')\n",
    "    # noise = torch.rand(x.shape[-1])\n",
    "    # ids_random = torch.argsort(noise)\n",
    "    # ids_random = ids_random.expand(1,3,p*q,-1)\n",
    "    # x = torch.gather(x, dim = 3, index=ids_random)\n",
    "    x = rearrange(x, ' n c (p q) (h w) -> c (n h p) (w q)', p = p, h = h_, )\n",
    "    x = x[:,2:-2,2:-2]\n",
    "    return tf.functional.to_pil_image(x)"
   ]
  },
  {
   "cell_type": "code",
   "execution_count": null,
   "id": "445eed00",
   "metadata": {},
   "outputs": [],
   "source": [
    "tensor_2_image(tensor_image)"
   ]
  },
  {
   "cell_type": "code",
   "execution_count": null,
   "id": "91d3651f",
   "metadata": {},
   "outputs": [],
   "source": [
    "tensor_pure = 0.3*torch.ones_like(tensor_gray)"
   ]
  },
  {
   "cell_type": "code",
   "execution_count": null,
   "id": "2d70164d",
   "metadata": {},
   "outputs": [],
   "source": [
    "tensor_2_image(tensor_pure)"
   ]
  },
  {
   "cell_type": "code",
   "execution_count": null,
   "id": "5c3eba21",
   "metadata": {},
   "outputs": [],
   "source": [
    "tensor_2_image(tensor_gray)"
   ]
  },
  {
   "cell_type": "code",
   "execution_count": null,
   "id": "7614f577",
   "metadata": {},
   "outputs": [],
   "source": [
    "tensor_2_patch_image(tensor_image, patch_size=56)"
   ]
  },
  {
   "cell_type": "code",
   "execution_count": null,
   "id": "46d46dd8",
   "metadata": {},
   "outputs": [],
   "source": [
    "tensor_2_patch_image(tensor_gray, patch_size=56)"
   ]
  },
  {
   "cell_type": "code",
   "execution_count": null,
   "id": "f28db9e4",
   "metadata": {},
   "outputs": [],
   "source": [
    "x = tensor_image.detach().clone()\n",
    "g = tensor_gray.detach().clone()\n",
    "p = tensor_pure"
   ]
  },
  {
   "cell_type": "code",
   "execution_count": null,
   "id": "81e0285d",
   "metadata": {},
   "outputs": [],
   "source": [
    "model.patch_embed.patch_size"
   ]
  },
  {
   "cell_type": "code",
   "execution_count": null,
   "id": "323d1d89",
   "metadata": {},
   "outputs": [],
   "source": [
    "x_patched = model.patchify(x)\n",
    "g_patched = model.patchify(g)\n",
    "p_patched = model.patchify(p)\n",
    "mask_ratio = 0.4"
   ]
  },
  {
   "cell_type": "code",
   "execution_count": null,
   "id": "d5be7bbe",
   "metadata": {},
   "outputs": [],
   "source": [
    "x_patched.shape  #x: (N, L=h_*w_, patch_size**2*channel)\n",
    "# patch_size : p = q = 16 \n",
    "# h_ = h // p : 224 // 16 = 14\n",
    "# w_ = w // q : 224 // 16 = 14 \n",
    "# channel_size : c = 3\n",
    "# >>\n",
    "# N = 1\n",
    "# L = h_ * w_ = 14 * 14 = 196  \n",
    "# D = p * q * c = 16 * 16 * 3 = 768"
   ]
  },
  {
   "cell_type": "code",
   "execution_count": null,
   "id": "c6a97c86",
   "metadata": {},
   "outputs": [],
   "source": [
    "x_hat = model.unpatchify(x_patched)"
   ]
  },
  {
   "cell_type": "code",
   "execution_count": null,
   "id": "ab4b0f1d",
   "metadata": {},
   "outputs": [],
   "source": [
    "tensor_2_image(x_hat)"
   ]
  },
  {
   "cell_type": "markdown",
   "id": "c70f389f",
   "metadata": {},
   "source": [
    "## random graying"
   ]
  },
  {
   "cell_type": "code",
   "execution_count": null,
   "id": "e817169b",
   "metadata": {},
   "outputs": [],
   "source": [
    "# def random_masking(x, mask_ratio):\n",
    "\"\"\"\n",
    "Perform per-sample random masking by per-sample shuffling.\n",
    "Per-sample shuffling is done by argsort random noise.\n",
    "x: [N, L, D], sequence\n",
    "\"\"\"\n",
    "N, L, D = x_patched.shape  # batch, length, dim\n",
    "len_keep = int(L * (1 - mask_ratio))"
   ]
  },
  {
   "cell_type": "code",
   "execution_count": null,
   "id": "a0fd155a",
   "metadata": {},
   "outputs": [],
   "source": [
    "torch.manual_seed(20)\n",
    "noise = torch.rand(N, L, device=x_patched.device)  # noise in [0, 1]\n",
    "noise.shape\n",
    "# sort noise for each sample\n",
    "ids_shuffle = torch.argsort(noise, dim=1)  # ascend: small is keep, large is remove\n",
    "ids_restore = torch.argsort(ids_shuffle, dim=1)\n",
    "ids_restore"
   ]
  },
  {
   "cell_type": "code",
   "execution_count": null,
   "id": "8e803633",
   "metadata": {},
   "outputs": [],
   "source": [
    "# keep the first subset\n",
    "ids_keep = ids_shuffle[:, :len_keep]\n",
    "ids_gray = ids_shuffle[:, len_keep:]\n",
    "x_masked = torch.gather(x_patched, dim=1, index=ids_keep.unsqueeze(-1).repeat(1, 1, D))\n",
    "g_masked = torch.gather(g_patched, dim=1, index=ids_gray.unsqueeze(-1).repeat(1, 1, D))\n",
    "p_masked = torch.gather(p_patched, dim=1, index=ids_gray.unsqueeze(-1).repeat(1, 1, D))\n",
    "x_masked.shape, g_masked.shape"
   ]
  },
  {
   "cell_type": "code",
   "execution_count": null,
   "id": "1f1d13aa",
   "metadata": {},
   "outputs": [],
   "source": [
    "\n",
    "# generate the binary mask: 0 is keep, 1 is remove\n",
    "mask = torch.ones([N, L], device=x_patched.device)\n",
    "mask[:, :len_keep] = 0\n",
    "# unshuffle to get the binary mask\n",
    "mask = torch.gather(mask, dim=1, index=ids_restore)\n",
    "mask.shape\n",
    "# return x_masked, mask, ids_restore"
   ]
  },
  {
   "cell_type": "code",
   "execution_count": null,
   "id": "33c95c3d",
   "metadata": {},
   "outputs": [],
   "source": [
    "m = mask.clone()\n",
    "m = 0.6*(1-m)\n",
    "m = repeat(m, 'b L -> b c L (p q)',c=3, p=56,q=56)\n",
    "m = rearrange(m, 'b c (h w) (p q) -> b c (h p) (w q)', h=4,p=56)\n",
    "m.shape"
   ]
  },
  {
   "cell_type": "code",
   "execution_count": null,
   "id": "758a0dbc",
   "metadata": {},
   "outputs": [],
   "source": [
    "tensor_2_image(m)"
   ]
  },
  {
   "cell_type": "code",
   "execution_count": null,
   "id": "bb084ce1",
   "metadata": {},
   "outputs": [],
   "source": [
    "tensor_2_patch_image(m,patch_size=56)"
   ]
  },
  {
   "cell_type": "markdown",
   "id": "a18c6ebe",
   "metadata": {},
   "source": [
    "## drop masking\n",
    "x_mask, mask, ids_store -> x"
   ]
  },
  {
   "cell_type": "code",
   "execution_count": null,
   "id": "d43c0a57",
   "metadata": {},
   "outputs": [],
   "source": [
    "x_ = torch.cat([x_masked, p_masked], dim=1)  # no cls token\n",
    "# x_ = x_masked\n",
    "x_ = torch.gather(x_, dim=1, index=ids_restore.unsqueeze(-1).repeat(1, 1, x_masked.shape[2]))  # unshuffle\n",
    "x_ = model.unpatchify(x_)\n",
    "x_.shape"
   ]
  },
  {
   "cell_type": "code",
   "execution_count": null,
   "id": "bac3f81e",
   "metadata": {},
   "outputs": [],
   "source": [
    "tensor_2_image(x_)"
   ]
  },
  {
   "cell_type": "code",
   "execution_count": null,
   "id": "841e73c9",
   "metadata": {},
   "outputs": [],
   "source": [
    "tensor_2_patch_image(x_, patch_size=56)"
   ]
  },
  {
   "cell_type": "code",
   "execution_count": null,
   "id": "597b2ba3",
   "metadata": {},
   "outputs": [],
   "source": [
    "from PIL import Image, ImageDraw\n",
    "import random\n",
    "\n",
    "# 创建画布大小\n",
    "grid_size = 10\n",
    "cell_size = 50  # 每个网格的大小（像素）\n",
    "width = grid_size * cell_size\n",
    "height = grid_size * cell_size\n",
    "\n",
    "# 创建新图片\n",
    "image = Image.new(\"RGB\", (width, height), \"white\")\n",
    "draw = ImageDraw.Draw(image)\n",
    "\n",
    "# 绘制网格\n",
    "for row in range(grid_size):\n",
    "    for col in range(grid_size):\n",
    "        # 生成随机RGB颜色\n",
    "        color = (\n",
    "            random.randint(0, 255),\n",
    "            random.randint(0, 255),\n",
    "            random.randint(0, 255)\n",
    "        )\n",
    "        \n",
    "        # 计算当前网格的位置\n",
    "        x0 = col * cell_size\n",
    "        y0 = row * cell_size\n",
    "        x1 = x0 + cell_size\n",
    "        y1 = y0 + cell_size\n",
    "        \n",
    "        # 绘制矩形\n",
    "        draw.rectangle([x0, y0, x1, y1], fill=color)\n",
    "\n",
    "# 保存图片\n",
    "# image.save(\"random_color_grid.png\")\n",
    "image.show()"
   ]
  },
  {
   "cell_type": "code",
   "execution_count": null,
   "id": "c1870eab",
   "metadata": {},
   "outputs": [],
   "source": [
    "from PIL import Image, ImageDraw\n",
    "import random\n",
    "\n",
    "# 创建画布大小\n",
    "grid_size = 10\n",
    "cell_size = 50  # 每个网格的大小（像素）\n",
    "width = grid_size * cell_size\n",
    "height = grid_size * cell_size\n",
    "\n",
    "# 创建新图片（模式为\"L\"表示灰度图像）\n",
    "image = Image.new(\"L\", (width, height), \"white\")\n",
    "draw = ImageDraw.Draw(image)\n",
    "\n",
    "# 绘制网格\n",
    "for row in range(grid_size):\n",
    "    for col in range(grid_size):\n",
    "        # 生成随机灰度值\n",
    "        gray_value = random.randint(0, 255)\n",
    "        \n",
    "        # 计算当前网格的位置\n",
    "        x0 = col * cell_size\n",
    "        y0 = row * cell_size\n",
    "        x1 = x0 + cell_size\n",
    "        y1 = y0 + cell_size\n",
    "        \n",
    "        # 绘制矩形\n",
    "        draw.rectangle([x0, y0, x1, y1], fill=gray_value)\n",
    "\n",
    "# 保存图片\n",
    "# image.save(\"random_gray_grid.png\")\n",
    "image.show()"
   ]
  },
  {
   "cell_type": "code",
   "execution_count": null,
   "id": "a136f18f",
   "metadata": {},
   "outputs": [],
   "source": [
    "from PIL import Image, ImageDraw\n",
    "import random\n",
    "\n",
    "# 创建画布大小\n",
    "grid_size = 10\n",
    "cell_size = 50  # 每个网格的大小（像素）\n",
    "width = grid_size * cell_size\n",
    "height = grid_size * cell_size\n",
    "\n",
    "# 创建随机颜色网格图片\n",
    "def create_random_color_image():\n",
    "    image = Image.new(\"RGB\", (width, height), \"white\")\n",
    "    draw = ImageDraw.Draw(image)\n",
    "    \n",
    "    for row in range(grid_size):\n",
    "        for col in range(grid_size):\n",
    "            color = (\n",
    "                random.randint(0, 255),\n",
    "                random.randint(0, 255),\n",
    "                random.randint(0, 255)\n",
    "            )\n",
    "            \n",
    "            x0 = col * cell_size\n",
    "            y0 = row * cell_size\n",
    "            x1 = x0 + cell_size\n",
    "            y1 = y0 + cell_size\n",
    "            \n",
    "            draw.rectangle([x0, y0, x1, y1], fill=color)\n",
    "    \n",
    "    return image\n",
    "\n",
    "# 将一些彩色网格变成灰色块\n",
    "def convert_to_gray(image, gray_probability=0.3):\n",
    "    draw = ImageDraw.Draw(image)\n",
    "    \n",
    "    for row in range(grid_size):\n",
    "        for col in range(grid_size):\n",
    "            # 随机决定是否将该网格转换为灰度\n",
    "            if random.random() < gray_probability:\n",
    "                # 获取当前网格的颜色\n",
    "                x0 = col * cell_size\n",
    "                y0 = row * cell_size\n",
    "                x1 = x0 + cell_size\n",
    "                y1 = y0 + cell_size\n",
    "                \n",
    "                # 获取该区域的颜色并计算灰度值\n",
    "                region = image.crop((x0, y0, x1, y1))\n",
    "                # 计算平均颜色值作为灰度值\n",
    "                average_color = sum(region.getcolors(maxcolors=256)[-1][-1]) // (cell_size * cell_size) \n",
    "                # print(average_color)\n",
    "                # 绘制灰度值\n",
    "                draw.rectangle([x0, y0, x1, y1], fill=(210,210,210))\n",
    "    \n",
    "    return image\n"
   ]
  },
  {
   "cell_type": "code",
   "execution_count": null,
   "id": "6c10fca9",
   "metadata": {},
   "outputs": [],
   "source": [
    "# 创建并保存图片\n",
    "color_image = create_random_color_image()\n",
    "color_image.show()"
   ]
  },
  {
   "cell_type": "code",
   "execution_count": null,
   "id": "abbacd46",
   "metadata": {},
   "outputs": [],
   "source": [
    "gray_image = color_image.copy()\n",
    "gray_image = convert_to_gray(gray_image)\n",
    "\n",
    "# gray_image.save(\"random_color_with_gray_grid.png\")\n",
    "gray_image.show()"
   ]
  }
 ],
 "metadata": {
  "kernelspec": {
   "display_name": "py312",
   "language": "python",
   "name": "python3"
  },
  "language_info": {
   "codemirror_mode": {
    "name": "ipython",
    "version": 3
   },
   "file_extension": ".py",
   "mimetype": "text/x-python",
   "name": "python",
   "nbconvert_exporter": "python",
   "pygments_lexer": "ipython3",
   "version": "3.12.3"
  }
 },
 "nbformat": 4,
 "nbformat_minor": 5
}
