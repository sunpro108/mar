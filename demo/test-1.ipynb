{
 "cells": [
  {
   "cell_type": "code",
   "execution_count": 1,
   "id": "6273ea0d",
   "metadata": {},
   "outputs": [],
   "source": [
    "import torch"
   ]
  },
  {
   "cell_type": "code",
   "execution_count": 2,
   "id": "f184d670",
   "metadata": {},
   "outputs": [],
   "source": [
    "t = torch.arange(27).reshape((3,3,3))"
   ]
  },
  {
   "cell_type": "code",
   "execution_count": 17,
   "id": "38665134",
   "metadata": {},
   "outputs": [
    {
     "data": {
      "text/plain": [
       "tensor([[[0, 0, 0],\n",
       "         [0, 0, 0],\n",
       "         [0, 0, 0]],\n",
       "\n",
       "        [[1, 1, 1],\n",
       "         [1, 1, 1],\n",
       "         [1, 1, 1]],\n",
       "\n",
       "        [[2, 2, 2],\n",
       "         [2, 2, 2],\n",
       "         [2, 2, 2]]])"
      ]
     },
     "execution_count": 17,
     "metadata": {},
     "output_type": "execute_result"
    }
   ],
   "source": [
    "_i = torch.arange(3, dtype=torch.long)\n",
    "index0 = _i.expand(3,3, -1).permute(2,1,0)\n",
    "index0"
   ]
  },
  {
   "cell_type": "code",
   "execution_count": 18,
   "id": "2b30d505",
   "metadata": {},
   "outputs": [
    {
     "data": {
      "text/plain": [
       "tensor([[[0, 0, 0],\n",
       "         [1, 1, 1],\n",
       "         [2, 2, 2]],\n",
       "\n",
       "        [[0, 0, 0],\n",
       "         [1, 1, 1],\n",
       "         [2, 2, 2]],\n",
       "\n",
       "        [[0, 0, 0],\n",
       "         [1, 1, 1],\n",
       "         [2, 2, 2]]])"
      ]
     },
     "execution_count": 18,
     "metadata": {},
     "output_type": "execute_result"
    }
   ],
   "source": [
    "_i = torch.arange(3, dtype=torch.long)\n",
    "index1 = _i.expand(3,3, -1).permute(0,2,1)\n",
    "index1"
   ]
  },
  {
   "cell_type": "code",
   "execution_count": 19,
   "id": "3e3176d2",
   "metadata": {},
   "outputs": [
    {
     "data": {
      "text/plain": [
       "tensor([[[0, 1, 2],\n",
       "         [0, 1, 2],\n",
       "         [0, 1, 2]],\n",
       "\n",
       "        [[0, 1, 2],\n",
       "         [0, 1, 2],\n",
       "         [0, 1, 2]],\n",
       "\n",
       "        [[0, 1, 2],\n",
       "         [0, 1, 2],\n",
       "         [0, 1, 2]]])"
      ]
     },
     "execution_count": 19,
     "metadata": {},
     "output_type": "execute_result"
    }
   ],
   "source": [
    "_i = torch.arange(3, dtype=torch.long)\n",
    "index2 = _i.expand([3,3,-1])\n",
    "index2"
   ]
  },
  {
   "cell_type": "code",
   "execution_count": null,
   "id": "ef878592",
   "metadata": {},
   "outputs": [],
   "source": [
    "x,y,z = list(t.shape)\n",
    "p = []\n",
    "for i in range(x):\n",
    "    q = []\n",
    "    for j in range(y):\n",
    "        r = []\n",
    "        for k in range(z):\n",
    "            r.append(t[i][j][index2[i][j][k]])\n",
    "        q.append(r)\n",
    "    p.append(q) \n",
    "torch.tensor(p)"
   ]
  },
  {
   "cell_type": "code",
   "execution_count": null,
   "id": "cbbe4a64",
   "metadata": {},
   "outputs": [],
   "source": [
    "torch.gather(t, 0, index=index0)"
   ]
  },
  {
   "cell_type": "code",
   "execution_count": null,
   "id": "a4761b07",
   "metadata": {},
   "outputs": [],
   "source": [
    "torch.gather(t, 1, index=index1)"
   ]
  },
  {
   "cell_type": "code",
   "execution_count": null,
   "id": "337009fe",
   "metadata": {},
   "outputs": [],
   "source": [
    "torch.gather(t, 2, index=index2)"
   ]
  }
 ],
 "metadata": {
  "kernelspec": {
   "display_name": "s-diff",
   "language": "python",
   "name": "python3"
  },
  "language_info": {
   "codemirror_mode": {
    "name": "ipython",
    "version": 3
   },
   "file_extension": ".py",
   "mimetype": "text/x-python",
   "name": "python",
   "nbconvert_exporter": "python",
   "pygments_lexer": "ipython3",
   "version": "3.10.14"
  }
 },
 "nbformat": 4,
 "nbformat_minor": 5
}
